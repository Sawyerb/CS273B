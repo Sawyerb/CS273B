{
 "cells": [
  {
   "cell_type": "code",
   "execution_count": 2,
   "metadata": {},
   "outputs": [
    {
     "name": "stderr",
     "output_type": "stream",
     "text": [
      "Using TensorFlow backend.\n",
      "/usr/local/lib/python3.5/dist-packages/tensorflow/python/framework/dtypes.py:516: FutureWarning: Passing (type, 1) or '1type' as a synonym of type is deprecated; in a future version of numpy, it will be understood as (type, (1,)) / '(1,)type'.\n",
      "  _np_qint8 = np.dtype([(\"qint8\", np.int8, 1)])\n",
      "/usr/local/lib/python3.5/dist-packages/tensorflow/python/framework/dtypes.py:517: FutureWarning: Passing (type, 1) or '1type' as a synonym of type is deprecated; in a future version of numpy, it will be understood as (type, (1,)) / '(1,)type'.\n",
      "  _np_quint8 = np.dtype([(\"quint8\", np.uint8, 1)])\n",
      "/usr/local/lib/python3.5/dist-packages/tensorflow/python/framework/dtypes.py:518: FutureWarning: Passing (type, 1) or '1type' as a synonym of type is deprecated; in a future version of numpy, it will be understood as (type, (1,)) / '(1,)type'.\n",
      "  _np_qint16 = np.dtype([(\"qint16\", np.int16, 1)])\n",
      "/usr/local/lib/python3.5/dist-packages/tensorflow/python/framework/dtypes.py:519: FutureWarning: Passing (type, 1) or '1type' as a synonym of type is deprecated; in a future version of numpy, it will be understood as (type, (1,)) / '(1,)type'.\n",
      "  _np_quint16 = np.dtype([(\"quint16\", np.uint16, 1)])\n",
      "/usr/local/lib/python3.5/dist-packages/tensorflow/python/framework/dtypes.py:520: FutureWarning: Passing (type, 1) or '1type' as a synonym of type is deprecated; in a future version of numpy, it will be understood as (type, (1,)) / '(1,)type'.\n",
      "  _np_qint32 = np.dtype([(\"qint32\", np.int32, 1)])\n",
      "/usr/local/lib/python3.5/dist-packages/tensorflow/python/framework/dtypes.py:525: FutureWarning: Passing (type, 1) or '1type' as a synonym of type is deprecated; in a future version of numpy, it will be understood as (type, (1,)) / '(1,)type'.\n",
      "  np_resource = np.dtype([(\"resource\", np.ubyte, 1)])\n",
      "/usr/local/lib/python3.5/dist-packages/tensorboard/compat/tensorflow_stub/dtypes.py:541: FutureWarning: Passing (type, 1) or '1type' as a synonym of type is deprecated; in a future version of numpy, it will be understood as (type, (1,)) / '(1,)type'.\n",
      "  _np_qint8 = np.dtype([(\"qint8\", np.int8, 1)])\n",
      "/usr/local/lib/python3.5/dist-packages/tensorboard/compat/tensorflow_stub/dtypes.py:542: FutureWarning: Passing (type, 1) or '1type' as a synonym of type is deprecated; in a future version of numpy, it will be understood as (type, (1,)) / '(1,)type'.\n",
      "  _np_quint8 = np.dtype([(\"quint8\", np.uint8, 1)])\n",
      "/usr/local/lib/python3.5/dist-packages/tensorboard/compat/tensorflow_stub/dtypes.py:543: FutureWarning: Passing (type, 1) or '1type' as a synonym of type is deprecated; in a future version of numpy, it will be understood as (type, (1,)) / '(1,)type'.\n",
      "  _np_qint16 = np.dtype([(\"qint16\", np.int16, 1)])\n",
      "/usr/local/lib/python3.5/dist-packages/tensorboard/compat/tensorflow_stub/dtypes.py:544: FutureWarning: Passing (type, 1) or '1type' as a synonym of type is deprecated; in a future version of numpy, it will be understood as (type, (1,)) / '(1,)type'.\n",
      "  _np_quint16 = np.dtype([(\"quint16\", np.uint16, 1)])\n",
      "/usr/local/lib/python3.5/dist-packages/tensorboard/compat/tensorflow_stub/dtypes.py:545: FutureWarning: Passing (type, 1) or '1type' as a synonym of type is deprecated; in a future version of numpy, it will be understood as (type, (1,)) / '(1,)type'.\n",
      "  _np_qint32 = np.dtype([(\"qint32\", np.int32, 1)])\n",
      "/usr/local/lib/python3.5/dist-packages/tensorboard/compat/tensorflow_stub/dtypes.py:550: FutureWarning: Passing (type, 1) or '1type' as a synonym of type is deprecated; in a future version of numpy, it will be understood as (type, (1,)) / '(1,)type'.\n",
      "  np_resource = np.dtype([(\"resource\", np.ubyte, 1)])\n"
     ]
    }
   ],
   "source": [
    "import os\n",
    "import h5py\n",
    "import numpy as np\n",
    "import keras\n",
    "from keras import Input, Model\n",
    "from keras.layers import Conv1D, MaxPooling1D, Flatten, Dense, Activation, Dropout\n",
    "from keras.optimizers import Adam\n",
    "import tensorflow as tf"
   ]
  },
  {
   "cell_type": "code",
   "execution_count": 3,
   "metadata": {},
   "outputs": [],
   "source": [
    "test_input = np.load('testInput.npy', allow_pickle=True)\n",
    "test_output = np.load('testOutput.npy', allow_pickle=True)"
   ]
  },
  {
   "cell_type": "code",
   "execution_count": 4,
   "metadata": {},
   "outputs": [],
   "source": [
    "train_input = np.load('trainInput.npy', allow_pickle=True)"
   ]
  },
  {
   "cell_type": "code",
   "execution_count": 5,
   "metadata": {},
   "outputs": [],
   "source": [
    "train_output = np.load('trainOutput.npy', allow_pickle=True)\n",
    "valid_input = np.load('validInput.npy', allow_pickle=True)\n",
    "valid_output = np.load('validOutput.npy', allow_pickle=True)"
   ]
  },
  {
   "cell_type": "code",
   "execution_count": 6,
   "metadata": {},
   "outputs": [],
   "source": [
    "test_input = np.concatenate(test_input, axis=0)\n",
    "train_input = np.squeeze(np.concatenate(train_input[:250], axis=0))\n",
    "valid_input = np.concatenate(valid_input, axis=0)\n",
    "test_output = np.squeeze(np.concatenate(test_output, axis=0))\n",
    "train_output = np.squeeze(np.concatenate(train_output[:250], axis=0))\n",
    "valid_output = np.squeeze(np.concatenate(valid_output, axis=0))"
   ]
  },
  {
   "cell_type": "code",
   "execution_count": 7,
   "metadata": {},
   "outputs": [
    {
     "name": "stdout",
     "output_type": "stream",
     "text": [
      "(651946, 1000, 4)\n",
      "(2048000, 1000, 4)\n",
      "(2048000, 4)\n",
      "(494358, 1000, 4)\n",
      "(494358, 4)\n"
     ]
    }
   ],
   "source": [
    "print(test_input.shape)\n",
    "print(train_input.shape)\n",
    "print(train_output.shape)\n",
    "print(valid_input.shape)\n",
    "print(valid_output.shape)"
   ]
  },
  {
   "cell_type": "code",
   "execution_count": 24,
   "metadata": {},
   "outputs": [],
   "source": [
    "p = np.random.permutation(100000)\n",
    "small_train_input = train_input[:100000][p]\n",
    "small_train_output = train_output[:100000][p]\n",
    "small_valid_input = valid_input[:30000]\n",
    "small_valid_output = valid_output[:30000]"
   ]
  },
  {
   "cell_type": "code",
   "execution_count": 25,
   "metadata": {},
   "outputs": [],
   "source": [
    "# params = {'leftpos': 9500, 'rightpos':10500,\n",
    "#           'numconvlayers': {'numFiltersConv1': 128, 'numFiltersConv2': 32,  'filterLenConv1':6, 'filterLenConv2': 9},\n",
    "#          'dilRate1': 1,\n",
    "#          'maxPool1': 30, 'dilRate2': 1, 'maxPool2': 10,\n",
    "#          'numdenselayers': {'dense1': 64, 'dense2': 2, 'dropout1':0.00099, 'dropout2':0.01546},\n",
    "#          'activationFxn': 'sigmoid',\n",
    "#          'batch_size': 128}\n",
    "params = {'leftpos': 9500, 'rightpos':10500,\n",
    "          'numconvlayers': {'numFiltersConv1': 128, 'numFiltersConv2': 32,  'filterLenConv1':6, 'filterLenConv2': 9},\n",
    "         'dilRate1': 1,\n",
    "         'maxPool1': 30, 'dilRate2': 1, 'maxPool2': 10,\n",
    "         'numdenselayers': {'dense1': 64, 'dense2': 16, 'dropout1':0.00099, 'dropout2':0.01546},\n",
    "         'activationFxn': 'relu',\n",
    "         'batch_size': 128}"
   ]
  },
  {
   "cell_type": "code",
   "execution_count": 26,
   "metadata": {},
   "outputs": [
    {
     "name": "stdout",
     "output_type": "stream",
     "text": [
      "Model: \"model_2\"\n",
      "_________________________________________________________________\n",
      "Layer (type)                 Output Shape              Param #   \n",
      "=================================================================\n",
      "promoter (InputLayer)        (None, 1000, 4)           0         \n",
      "_________________________________________________________________\n",
      "conv1d_3 (Conv1D)            (None, 1000, 128)         3200      \n",
      "_________________________________________________________________\n",
      "max_pooling1d_3 (MaxPooling1 (None, 33, 128)           0         \n",
      "_________________________________________________________________\n",
      "conv1d_4 (Conv1D)            (None, 33, 32)            36896     \n",
      "_________________________________________________________________\n",
      "max_pooling1d_4 (MaxPooling1 (None, 3, 32)             0         \n",
      "_________________________________________________________________\n",
      "flatten_2 (Flatten)          (None, 96)                0         \n",
      "_________________________________________________________________\n",
      "dense_4 (Dense)              (None, 64)                6208      \n",
      "_________________________________________________________________\n",
      "activation_3 (Activation)    (None, 64)                0         \n",
      "_________________________________________________________________\n",
      "dropout_3 (Dropout)          (None, 64)                0         \n",
      "_________________________________________________________________\n",
      "dense_5 (Dense)              (None, 16)                1040      \n",
      "_________________________________________________________________\n",
      "activation_4 (Activation)    (None, 16)                0         \n",
      "_________________________________________________________________\n",
      "dropout_4 (Dropout)          (None, 16)                0         \n",
      "_________________________________________________________________\n",
      "dense_6 (Dense)              (None, 4)                 68        \n",
      "=================================================================\n",
      "Total params: 47,412\n",
      "Trainable params: 47,412\n",
      "Non-trainable params: 0\n",
      "_________________________________________________________________\n"
     ]
    }
   ],
   "source": [
    "# leftpos = int(params['leftpos'])\n",
    "# rightpos = int(params['rightpos'])\n",
    "# X_trainpromoterSubseq = X_trainpromoter[:,leftpos:rightpos,:]\n",
    "# X_validpromoterSubseq = X_validpromoter[:,leftpos:rightpos,:]\n",
    "# input_promoter = Input(shape=X_trainpromoterSubseq.shape[1:], name='promoter')\n",
    "\n",
    "input_promoter = Input(shape=train_input.shape[1:], name='promoter')\n",
    "\n",
    "x = Conv1D(int(params['numconvlayers']['numFiltersConv1']), int(params['numconvlayers']['filterLenConv1']), dilation_rate=int(params['dilRate1']), padding='same', kernel_initializer='glorot_normal', input_shape=train_input.shape[1:],activation=params['activationFxn'])(input_promoter)\n",
    "x = MaxPooling1D(int(params['maxPool1']))(x)\n",
    "x = Conv1D(int(params['numconvlayers']['numFiltersConv2']), int(params['numconvlayers']['filterLenConv2']), dilation_rate=int(params['dilRate2']), padding='same', kernel_initializer='glorot_normal',activation=params['activationFxn'])(x)\n",
    "x = MaxPooling1D(params['maxPool2'])(x)\n",
    "x = Flatten()(x)\n",
    "x = Dense(int(params['numdenselayers']['dense1']))(x)\n",
    "x = Activation(params['activationFxn'])(x)\n",
    "x = Dropout(params['numdenselayers']['dropout1'])(x)\n",
    "x = Dense(int(params['numdenselayers']['dense2']))(x)\n",
    "x = Activation(params['activationFxn'])(x)\n",
    "x = Dropout(params['numdenselayers']['dropout2'])(x)\n",
    "main_output = Dense(4)(x)\n",
    "#main_output = Activation('relu')(x) # force outputs to be at least 0\n",
    "model = Model(inputs=[input_promoter], outputs=[main_output])\n",
    "model.compile(Adam(lr=0.001, beta_1=0.9, beta_2=0.999, epsilon=1e-08, decay=0.0),'mean_squared_error', metrics=['mean_squared_error'])\n",
    "model.summary()"
   ]
  },
  {
   "cell_type": "code",
   "execution_count": 46,
   "metadata": {},
   "outputs": [
    {
     "name": "stdout",
     "output_type": "stream",
     "text": [
      "Epoch 1/5\n",
      "30000/30000 [==============================] - 20s 671us/step - loss: 1653.0044 - mean_squared_error: 1653.0051\n",
      "Epoch 2/5\n",
      "30000/30000 [==============================] - 20s 669us/step - loss: 292.5965 - mean_squared_error: 292.5966\n",
      "Epoch 3/5\n",
      "30000/30000 [==============================] - 20s 670us/step - loss: 33.7583 - mean_squared_error: 33.7583\n",
      "Epoch 4/5\n",
      "30000/30000 [==============================] - 20s 668us/step - loss: 32.1186 - mean_squared_error: 32.1186\n",
      "Epoch 5/5\n",
      "30000/30000 [==============================] - 20s 671us/step - loss: 25.4065 - mean_squared_error: 25.4065\n"
     ]
    }
   ],
   "source": [
    "small_train_input = np.zeros([30000, 1000, 4])\n",
    "small_train_output = np.zeros([30000, 4])\n",
    "\n",
    "i = 0\n",
    "for row in small_train_input:\n",
    "    row[:, i % 4]=1\n",
    "    small_train_output[i,i%4] = 100\n",
    "    i+=1\n",
    "\n",
    "\n",
    "model.fit(x=small_train_input, y=small_train_output,epochs=5, shuffle='batch',\n",
    "          batch_size=params['batch_size'])#--, validation_data=(small_valid_input, small_valid_output))\n",
    "model.save('model.h5')"
   ]
  },
  {
   "cell_type": "code",
   "execution_count": 47,
   "metadata": {},
   "outputs": [
    {
     "name": "stdout",
     "output_type": "stream",
     "text": [
      "[[ 9.8737373e+01  6.9886070e-01  3.2447100e-01  3.0264664e-01]\n",
      " [-4.6520859e-02  9.9102211e+01  2.3546650e-01 -1.0875416e-01]\n",
      " [ 3.4765276e-01 -1.6391309e-01  9.9103813e+01 -5.8114624e-01]\n",
      " [ 2.9192767e-01  1.6385771e-01  8.0017918e-01  9.8911987e+01]\n",
      " [ 9.8737373e+01  6.9886070e-01  3.2447100e-01  3.0264664e-01]\n",
      " [-4.6520859e-02  9.9102211e+01  2.3546650e-01 -1.0875416e-01]\n",
      " [ 3.4765276e-01 -1.6391309e-01  9.9103813e+01 -5.8114624e-01]\n",
      " [ 2.9192767e-01  1.6385771e-01  8.0017918e-01  9.8911987e+01]\n",
      " [ 9.8737373e+01  6.9886070e-01  3.2447100e-01  3.0264664e-01]\n",
      " [-4.6520859e-02  9.9102211e+01  2.3546650e-01 -1.0875416e-01]]\n",
      "[[100.   0.   0.   0.]\n",
      " [  0. 100.   0.   0.]\n",
      " [  0.   0. 100.   0.]\n",
      " [  0.   0.   0. 100.]\n",
      " [100.   0.   0.   0.]\n",
      " [  0. 100.   0.   0.]\n",
      " [  0.   0. 100.   0.]\n",
      " [  0.   0.   0. 100.]\n",
      " [100.   0.   0.   0.]\n",
      " [  0. 100.   0.   0.]]\n"
     ]
    }
   ],
   "source": [
    "print(model.predict(small_train_input[:10]))\n",
    "print(small_train_output[:10])"
   ]
  },
  {
   "cell_type": "code",
   "execution_count": 28,
   "metadata": {},
   "outputs": [],
   "source": [
    "model = keras.models.load_model('model.h5')"
   ]
  },
  {
   "cell_type": "code",
   "execution_count": 29,
   "metadata": {},
   "outputs": [
    {
     "name": "stdout",
     "output_type": "stream",
     "text": [
      "(651946, 4)\n",
      "(365757, 0)\n"
     ]
    }
   ],
   "source": [
    "print(test_output.shape)\n",
    "print(np.unravel_index(np.argmax(test_output, axis=None), test_output.shape))"
   ]
  },
  {
   "cell_type": "code",
   "execution_count": 41,
   "metadata": {},
   "outputs": [
    {
     "name": "stdout",
     "output_type": "stream",
     "text": [
      "[[53.363426   55.08339    47.36892    30.943857  ]\n",
      " [ 0.26755893  0.4030537   0.43565863  0.16318989]\n",
      " [ 0.3562812   0.373475    0.4093913   0.15952021]\n",
      " [ 0.28578314  0.38399857  0.42313838  0.1704999 ]\n",
      " [ 0.3307998   0.37213305  0.407654    0.15618595]\n",
      " [ 0.35184276  0.35690603  0.39983487  0.16445027]\n",
      " [ 0.3805746   0.3708354   0.40893197  0.16621205]\n",
      " [ 0.39659786  0.3838286   0.41518098  0.16263694]\n",
      " [ 0.48573336  0.4561138   0.44445926  0.10423741]\n",
      " [ 0.37649885  0.40481764  0.43076068  0.16334304]\n",
      " [ 0.34328905  0.40875128  0.42684883  0.14470622]\n",
      " [16.645351   13.637745   13.481875    7.8568974 ]\n",
      " [ 0.28867975  0.40997913  0.41499406  0.07785214]\n",
      " [ 0.38165122  0.3708537   0.4005987   0.1415399 ]\n",
      " [ 0.3357048   0.38272446  0.41983202  0.16435164]]\n",
      "[[4.4325e+02 4.3425e+02 3.9925e+02 4.0350e+02]\n",
      " [0.0000e+00 0.0000e+00 0.0000e+00 2.2815e-01]\n",
      " [5.0018e-02 0.0000e+00 0.0000e+00 0.0000e+00]\n",
      " [0.0000e+00 3.9697e-01 4.2773e-01 0.0000e+00]\n",
      " [1.2225e-01 0.0000e+00 0.0000e+00 0.0000e+00]\n",
      " [0.0000e+00 0.0000e+00 0.0000e+00 1.4185e-01]\n",
      " [0.0000e+00 0.0000e+00 0.0000e+00 0.0000e+00]\n",
      " [1.1639e-01 0.0000e+00 2.6929e-01 0.0000e+00]\n",
      " [7.1533e-02 0.0000e+00 7.7209e-02 0.0000e+00]\n",
      " [9.8999e-02 0.0000e+00 2.2754e+00 3.0350e-02]\n",
      " [0.0000e+00 1.4717e+00 4.5386e-01 9.8389e-01]\n",
      " [1.3806e-01 1.3213e+00 0.0000e+00 1.6711e-01]\n",
      " [4.8531e+01 4.9469e+01 4.9156e+01 2.4547e+01]\n",
      " [0.0000e+00 0.0000e+00 0.0000e+00 0.0000e+00]\n",
      " [0.0000e+00 0.0000e+00 9.6985e-02 0.0000e+00]]\n"
     ]
    }
   ],
   "source": [
    "t = test_input[365757:365757+15]\n",
    "t.shape\n",
    "print(model.predict(t))\n",
    "print(test_output[365757:365757+15])"
   ]
  },
  {
   "cell_type": "code",
   "execution_count": 32,
   "metadata": {},
   "outputs": [],
   "source": [
    "import matplotlib.pyplot as plt"
   ]
  },
  {
   "cell_type": "code",
   "execution_count": 39,
   "metadata": {},
   "outputs": [
    {
     "data": {
      "image/png": "[encoded data removed]",
      "text/plain": [
       "<Figure size 432x288 with 1 Axes>"
      ]
     },
     "metadata": {
      "needs_background": "light"
     },
     "output_type": "display_data"
    }
   ],
   "source": [
    "plt.scatter(test_output[:100000,2], model.predict(test_input[:100000])[:,2])\n",
    "plt.show()"
   ]
  },
  {
   "cell_type": "code",
   "execution_count": null,
   "metadata": {},
   "outputs": [],
   "source": [
    "output_class = 2 # the index of the output class we want to maximize\n",
    "output = model.layers[-1].output\n",
    "target = tf.math.scalar_mul(2, output[:,output_class])\n",
    "m = tf.math.reduce_mean(output, axis=1)\n",
    "loss = m - target\n",
    "grads = tf.gradients(loss, model.input)[0] # the output of `gradients` is a list, just take the first (and only) element\n",
    "iterate = keras.backend.function([model.input], [loss, grads])"
   ]
  },
  {
   "cell_type": "code",
   "execution_count": null,
   "metadata": {},
   "outputs": [],
   "source": [
    "def generate_seq():\n",
    "    def adam_update(grad, i, w):\n",
    "        #initialize the values of the parameters\n",
    "        alpha = 1\n",
    "        beta_1 = 0.9\n",
    "        beta_2 = 0.999 \n",
    "        epsilon = 1e-8\n",
    "\n",
    "        nonlocal theta_0\n",
    "        nonlocal m\n",
    "        nonlocal v \n",
    "\n",
    "        m = beta_1 * m + (1 - beta_1) * grad\n",
    "        v = beta_2 * v + (1 - beta_2) * np.power(grad, 2)\n",
    "        m_hat = m / (1 - np.power(beta_1, i))\n",
    "        v_hat = v / (1 - np.power(beta_2, i))\n",
    "        w = w + alpha * m_hat / (np.sqrt(v_hat) + epsilon)\n",
    "        return w\n",
    "\n",
    "    theta_0 = 0\n",
    "    m = 0 \n",
    "    v = 0 \n",
    "    \n",
    "    raw_input_seq = np.random.random((1, 1000, 4)) # define an initial random image\n",
    "\n",
    "    lr = 1.  # learning rate used for gradient updates\n",
    "    max_iter = 1000  # number of gradient updates iterations\n",
    "    for i in range(max_iter):\n",
    "        loss_val, grads_val = iterate([raw_input_seq])\n",
    "        #print(grads_val)\n",
    "        raw_input_seq = adam_update(grads_val, i+1, raw_input_seq)\n",
    "        \n",
    "        #raw_input_seq += grads_val * lr  # update the image based on gradients\n",
    "        if i % 100 == 0:\n",
    "            pred = model.predict(raw_input_seq)\n",
    "            print('Iteration ' + str(i) + ': model activation ' + str(pred))\n",
    "    \n",
    "    # Convert back to one-hot encoding\n",
    "    raw_input_seq = np.squeeze(raw_input_seq)\n",
    "    max_activations = np.argmax(raw_input_seq, axis=1).flatten()\n",
    "    encoded_seq = np.zeros(raw_input_seq.shape)\n",
    "    encoded_seq[np.arange(encoded_seq.shape[0]), max_activations] = 1\n",
    "    \n",
    "    return raw_input_seq, encoded_seq\n",
    "\n"
   ]
  },
  {
   "cell_type": "code",
   "execution_count": null,
   "metadata": {},
   "outputs": [],
   "source": [
    "for i in range(2):\n",
    "    input_seq, encoded_seq = generate_seq()\n",
    "    print(input_seq[:10,])\n",
    "    print(encoded_seq[:10,])"
   ]
  },
  {
   "cell_type": "code",
   "execution_count": null,
   "metadata": {},
   "outputs": [],
   "source": []
  }
 ],
 "metadata": {
  "kernelspec": {
   "display_name": "Python 3",
   "language": "python",
   "name": "python3"
  },
  "language_info": {
   "codemirror_mode": {
    "name": "ipython",
    "version": 3
   },
   "file_extension": ".py",
   "mimetype": "text/x-python",
   "name": "python",
   "nbconvert_exporter": "python",
   "pygments_lexer": "ipython3",
   "version": "3.5.3"
  }
 },
 "nbformat": 4,
 "nbformat_minor": 4
}
