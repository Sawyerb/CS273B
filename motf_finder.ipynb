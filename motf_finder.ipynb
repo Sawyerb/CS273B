{
 "cells": [
  {
   "cell_type": "code",
   "execution_count": 2,
   "metadata": {},
   "outputs": [],
   "source": [
    "import numpy as np\n",
    "from tqdm import tqdm\n",
    "import os"
   ]
  },
  {
   "cell_type": "code",
   "execution_count": 3,
   "metadata": {},
   "outputs": [
    {
     "name": "stdout",
     "output_type": "stream",
     "text": [
      "/home/jupyter/CS273B\n"
     ]
    }
   ],
   "source": [
    "print(os.getcwd())\n",
    "test_motifs = ['AATGATGCA', 'CCCXTAC', 'XAX']\n",
    "test_seq = 'AGAAGAGACCCGTACAATGATGCAA'"
   ]
  },
  {
   "cell_type": "code",
   "execution_count": 54,
   "metadata": {},
   "outputs": [],
   "source": [
    "def encode_seq(seq):\n",
    "    mapping = {'A': 0, 'C': 1, 'G': 2, 'T': 3}\n",
    "    arr = np.zeros((len(seq), 4))\n",
    "    for i in range(len(seq)):\n",
    "        b = seq[i]\n",
    "        if b in mapping.keys():\n",
    "            arr[i, mapping[b]] = 1\n",
    "        else:\n",
    "            arr[i,:] = 1\n",
    "    return arr\n",
    "        \n",
    "def find_motif(seq, motif):\n",
    "    starts = []\n",
    "    for i in range(len(seq) - len(motif) + 1):\n",
    "        prod = np.multiply(seq[i:i+len(motif),], motif)\n",
    "        if np.sum(prod) == len(motif):\n",
    "            starts.append(i)\n",
    "            \n",
    "    return starts\n",
    "\n",
    "def motif_score(seq, motif):\n",
    "    score = 0\n",
    "    for i in range(len(seq) - len(motif) + 1):\n",
    "        score += np.sum(np.multiply(seq[i:i+len(motif),], motif))\n",
    "    #normalize for length of motif\n",
    "    return score / (len(motif)*(len(seq)-len(motif)))\n"
   ]
  },
  {
   "cell_type": "code",
   "execution_count": 5,
   "metadata": {},
   "outputs": [
    {
     "name": "stdout",
     "output_type": "stream",
     "text": [
      "[1, 2, 4, 6, 12, 14, 15, 18, 22]\n"
     ]
    }
   ],
   "source": [
    "t = encode_seq(test_seq)\n",
    "m = encode_seq(test_motifs[2])\n",
    "print(find_motif(t, m))"
   ]
  },
  {
   "cell_type": "code",
   "execution_count": 6,
   "metadata": {},
   "outputs": [
    {
     "name": "stdout",
     "output_type": "stream",
     "text": [
      "CAA\n"
     ]
    }
   ],
   "source": [
    "print(test_seq[22:])"
   ]
  },
  {
   "cell_type": "code",
   "execution_count": 7,
   "metadata": {},
   "outputs": [],
   "source": [
    "test_input = np.load('testInput.npy', allow_pickle=True)\n",
    "test_output = np.load('testOutput.npy', allow_pickle=True)"
   ]
  },
  {
   "cell_type": "code",
   "execution_count": 8,
   "metadata": {},
   "outputs": [
    {
     "name": "stdout",
     "output_type": "stream",
     "text": [
      "(651946, 1000, 4)\n",
      "(651946, 4)\n"
     ]
    }
   ],
   "source": [
    "test_input = np.concatenate(test_input, axis=0)\n",
    "test_output = np.squeeze(np.concatenate(test_output, axis=0))\n",
    "print(test_input.shape)\n",
    "print(test_output.shape)"
   ]
  },
  {
   "cell_type": "code",
   "execution_count": 4,
   "metadata": {},
   "outputs": [
    {
     "name": "stdout",
     "output_type": "stream",
     "text": [
      "['GTTXCCATGGXAAC', 'CCAXXAGXXGGCA', 'GCAXTXCTGGGAXXTGTAGT', 'TCAGXACCXXGGACAG', 'CAGGTG', 'GCAGXTG', 'CAGCTG', 'TAAAAATAAC', 'GGAAGT', 'ACAAGATA']\n"
     ]
    }
   ],
   "source": [
    "motifs = []\n",
    "with open('Tfdata.txt', 'r') as f:\n",
    "    for line in f:\n",
    "        motifs.append(line.split(' ')[1][:-1].upper())\n",
    "print(motifs[:10])\n",
    "encoded_motifs = [encode_seq(m) for m in motifs]"
   ]
  },
  {
   "cell_type": "code",
   "execution_count": 7,
   "metadata": {},
   "outputs": [
    {
     "ename": "NameError",
     "evalue": "name 'test_output' is not defined",
     "output_type": "error",
     "traceback": [
      "\u001b[0;31m---------------------------------------------------------------------------\u001b[0m",
      "\u001b[0;31mNameError\u001b[0m                                 Traceback (most recent call last)",
      "\u001b[0;32m<ipython-input-7-bdf89912f455>\u001b[0m in \u001b[0;36m<module>\u001b[0;34m\u001b[0m\n\u001b[1;32m      2\u001b[0m \u001b[0;32mfor\u001b[0m \u001b[0mt\u001b[0m \u001b[0;32min\u001b[0m \u001b[0mrange\u001b[0m\u001b[0;34m(\u001b[0m\u001b[0;36m4\u001b[0m\u001b[0;34m)\u001b[0m\u001b[0;34m:\u001b[0m\u001b[0;34m\u001b[0m\u001b[0m\n\u001b[1;32m      3\u001b[0m     \u001b[0mdiff\u001b[0m \u001b[0;34m=\u001b[0m \u001b[0;34m[\u001b[0m\u001b[0;34m]\u001b[0m\u001b[0;34m\u001b[0m\u001b[0m\n\u001b[0;32m----> 4\u001b[0;31m     \u001b[0;32mfor\u001b[0m \u001b[0mrow\u001b[0m \u001b[0;32min\u001b[0m \u001b[0mtest_output\u001b[0m\u001b[0;34m:\u001b[0m\u001b[0;34m\u001b[0m\u001b[0m\n\u001b[0m\u001b[1;32m      5\u001b[0m         \u001b[0mdiff\u001b[0m\u001b[0;34m.\u001b[0m\u001b[0mappend\u001b[0m\u001b[0;34m(\u001b[0m\u001b[0mrow\u001b[0m\u001b[0;34m[\u001b[0m\u001b[0mt\u001b[0m\u001b[0;34m]\u001b[0m \u001b[0;34m-\u001b[0m \u001b[0;34m(\u001b[0m\u001b[0mrow\u001b[0m\u001b[0;34m[\u001b[0m\u001b[0;34m(\u001b[0m\u001b[0mt\u001b[0m\u001b[0;34m+\u001b[0m\u001b[0;36m1\u001b[0m\u001b[0;34m)\u001b[0m\u001b[0;34m%\u001b[0m\u001b[0;36m4\u001b[0m\u001b[0;34m]\u001b[0m \u001b[0;34m+\u001b[0m \u001b[0mrow\u001b[0m\u001b[0;34m[\u001b[0m\u001b[0;34m(\u001b[0m\u001b[0mt\u001b[0m\u001b[0;34m+\u001b[0m\u001b[0;36m2\u001b[0m\u001b[0;34m)\u001b[0m\u001b[0;34m%\u001b[0m\u001b[0;36m4\u001b[0m\u001b[0;34m]\u001b[0m \u001b[0;34m+\u001b[0m \u001b[0mrow\u001b[0m\u001b[0;34m[\u001b[0m\u001b[0;34m(\u001b[0m\u001b[0mt\u001b[0m\u001b[0;34m+\u001b[0m\u001b[0;36m3\u001b[0m\u001b[0;34m)\u001b[0m\u001b[0;34m%\u001b[0m\u001b[0;36m4\u001b[0m\u001b[0;34m]\u001b[0m\u001b[0;34m)\u001b[0m\u001b[0;34m/\u001b[0m\u001b[0;36m3\u001b[0m\u001b[0;34m)\u001b[0m\u001b[0;34m\u001b[0m\u001b[0m\n\u001b[1;32m      6\u001b[0m     \u001b[0mrank\u001b[0m \u001b[0;34m=\u001b[0m \u001b[0msorted\u001b[0m\u001b[0;34m(\u001b[0m\u001b[0mrange\u001b[0m\u001b[0;34m(\u001b[0m\u001b[0mlen\u001b[0m\u001b[0;34m(\u001b[0m\u001b[0mdiff\u001b[0m\u001b[0;34m)\u001b[0m\u001b[0;34m)\u001b[0m\u001b[0;34m,\u001b[0m \u001b[0mkey\u001b[0m\u001b[0;34m=\u001b[0m\u001b[0;32mlambda\u001b[0m \u001b[0mk\u001b[0m\u001b[0;34m:\u001b[0m \u001b[0mdiff\u001b[0m\u001b[0;34m[\u001b[0m\u001b[0mk\u001b[0m\u001b[0;34m]\u001b[0m\u001b[0;34m,\u001b[0m \u001b[0mreverse\u001b[0m\u001b[0;34m=\u001b[0m\u001b[0;32mTrue\u001b[0m\u001b[0;34m)\u001b[0m\u001b[0;34m\u001b[0m\u001b[0m\n",
      "\u001b[0;31mNameError\u001b[0m: name 'test_output' is not defined"
     ]
    }
   ],
   "source": [
    "counts = np.zeros((4, len(motifs)))\n",
    "for t in range(4):\n",
    "    diff = []\n",
    "    for row in test_output:\n",
    "        diff.append(row[t] - (row[(t+1)%4] + row[(t+2)%4] + row[(t+3)%4])/3)\n",
    "    rank = sorted(range(len(diff)), key=lambda k: diff[k], reverse=True)\n",
    "    target_seqs = test_input[rank[:100],:,:]\n",
    "    for seq in tqdm(target_seqs):\n",
    "        for i, m in enumerate(encoded_motifs):\n",
    "            counts[t ,i] += len(find_motif(seq, m))\n",
    "print(counts)"
   ]
  },
  {
   "cell_type": "code",
   "execution_count": 14,
   "metadata": {},
   "outputs": [
    {
     "name": "stdout",
     "output_type": "stream",
     "text": [
      "[72, 49, 83, 80, 21]\n",
      "[60.0, 42.0, 34.33333333333333, 18.0, 12.0, 11.666666666666666, 10.333333333333329, 9.333333333333329, 8.333333333333343, 8.0]\n",
      "['TXTTTXT', 'CAGC', 'ACCTG', 'ACGC', 'CXCGTG', 'TAAACA', 'CCGGA', 'TCCCXXGXG', 'AATC', 'CAAAGXXC']\n",
      "[49, 80, 13, 27, 69]\n",
      "[59.33333333333337, 46.0, 31.66666666666667, 25.66666666666667, 18.66666666666667, 9.333333333333336, 7.333333333333329, 4.666666666666668, 4.666666666666668, 3.666666666666668]\n",
      "['CAGC', 'ACGC', 'CCGGA', 'CACCT', 'TCCCXXGXG', 'CAAAGXXC', 'GGTCA', 'CACGTG', 'CACGTG', 'TGTTCT']\n",
      "[25, 53, 47, 52, 68]\n",
      "[54.0, 48.33333333333333, 42.0, 18.66666666666667, 17.0, 15.0, 13.666666666666664, 12.333333333333336, 11.333333333333329, 11.0]\n",
      "['CCAT', 'TGTXCT', 'AACAA', 'TGACC', 'TTACXXXA', 'AATC', 'CAGCTG', 'CCAAT', 'GGTCA', 'GGAAGT']\n",
      "[48, 64, 59, 28, 56]\n",
      "[33.0, 31.0, 28.333333333333336, 28.33333333333333, 26.666666666666657, 24.333333333333336, 20.333333333333332, 18.0, 15.0, 14.333333333333332]\n",
      "['TGAC', 'AATC', 'TTACXT', 'GATA', 'TCTGG', 'CAGCTG', 'GGAAGT', 'GCAGXTG', 'TGTXCT', 'TGTTCT']\n"
     ]
    }
   ],
   "source": [
    "for t in range(4):\n",
    "    count_diff = counts[t] - (counts[(t+1)%4] + counts[(t+2)%4] + counts[(t+3)%4])/3\n",
    "    #print(count_diff)\n",
    "    rank = sorted(range(len(count_diff)), key=lambda k: count_diff[k], reverse=True)\n",
    "    print(rank[:5])\n",
    "    print([count_diff[i] for i in rank[:10]])\n",
    "    print([motifs[i] for i in rank[:10]])"
   ]
  },
  {
   "cell_type": "code",
   "execution_count": 12,
   "metadata": {},
   "outputs": [
    {
     "name": "stdout",
     "output_type": "stream",
     "text": [
      "60\n"
     ]
    }
   ],
   "source": [
    "sorted_diff = sorted(diff, reverse=True)\n",
    "ind = 0\n",
    "for i in range(len(sorted_diff)):\n",
    "    if sorted_diff[i] < 50:\n",
    "        ind = i\n",
    "        break\n",
    "print(ind)\n",
    "target_seqs = test_input[rank[:i],:,:]"
   ]
  },
  {
   "cell_type": "code",
   "execution_count": null,
   "metadata": {},
   "outputs": [],
   "source": []
  },
  {
   "cell_type": "code",
   "execution_count": null,
   "metadata": {},
   "outputs": [],
   "source": []
  },
  {
   "cell_type": "code",
   "execution_count": 13,
   "metadata": {},
   "outputs": [
    {
     "name": "stderr",
     "output_type": "stream",
     "text": [
      "100%|██████████| 60/60 [01:02<00:00,  1.03s/it]"
     ]
    },
    {
     "name": "stdout",
     "output_type": "stream",
     "text": [
      "[  0.   0.   0.   0.  28.  19.  26.   0.  20.   0.  10.   0.   0.   7.\n",
      "   0.   0.   3.   0.  27.   0.   0.  16.  13.   0.  20. 226.   0.  70.\n",
      " 193.   0.   0.   0.   1.   0.   3.  10.   0.   1.  29.   0.   2.  13.\n",
      "   0.   0.   0.  45.   2. 113. 187. 239.  10.  50.  38.  83.   5.   0.\n",
      "  93.  27.   0.  77.  10.  29.   0.   1. 241.  23.   0.   1.  58.   7.\n",
      "   3.   0. 380.  24.   1.   5. 123.   0.   0.   2.  24.  38.   0.  67.\n",
      "   6.  26.  20.  16.  31.   0.  36.  41.   4.   0.  23.   0.   7.   0.\n",
      "   8.]\n"
     ]
    },
    {
     "name": "stderr",
     "output_type": "stream",
     "text": [
      "\n"
     ]
    }
   ],
   "source": [
    "common_motifs = np.zeros(len(motifs))\n",
    "for seq in tqdm(target_seqs):\n",
    "    for i, m in enumerate(encoded_motifs):\n",
    "        common_motifs[i] += len(find_motif(seq, m))\n",
    "print(common_motifs)\n"
   ]
  },
  {
   "cell_type": "code",
   "execution_count": 55,
   "metadata": {},
   "outputs": [
    {
     "name": "stderr",
     "output_type": "stream",
     "text": [
      "\n",
      "  0%|          | 0/10 [00:00<?, ?it/s]\u001b[A\n",
      " 10%|█         | 1/10 [00:00<00:07,  1.20it/s]\u001b[A\n",
      " 20%|██        | 2/10 [00:01<00:06,  1.25it/s]\u001b[A\n",
      " 30%|███       | 3/10 [00:02<00:05,  1.31it/s]\u001b[A\n",
      " 40%|████      | 4/10 [00:02<00:04,  1.35it/s]\u001b[A\n",
      " 50%|█████     | 5/10 [00:03<00:03,  1.34it/s]\u001b[A\n",
      " 60%|██████    | 6/10 [00:04<00:02,  1.36it/s]\u001b[A\n",
      " 70%|███████   | 7/10 [00:05<00:02,  1.32it/s]\u001b[A\n",
      " 80%|████████  | 8/10 [00:05<00:01,  1.37it/s]\u001b[A\n",
      " 90%|█████████ | 9/10 [00:06<00:00,  1.36it/s]\u001b[A\n",
      "100%|██████████| 10/10 [00:07<00:00,  1.35it/s]\u001b[A\n",
      "\n",
      "  0%|          | 0/10 [00:00<?, ?it/s]\u001b[A\n",
      " 10%|█         | 1/10 [00:00<00:07,  1.26it/s]\u001b[A\n",
      " 20%|██        | 2/10 [00:01<00:06,  1.30it/s]\u001b[A\n",
      " 30%|███       | 3/10 [00:02<00:05,  1.27it/s]\u001b[A\n",
      " 40%|████      | 4/10 [00:03<00:04,  1.31it/s]\u001b[A\n",
      " 50%|█████     | 5/10 [00:03<00:03,  1.31it/s]\u001b[A\n",
      " 60%|██████    | 6/10 [00:04<00:02,  1.37it/s]\u001b[A\n",
      " 70%|███████   | 7/10 [00:05<00:02,  1.39it/s]\u001b[A\n",
      " 80%|████████  | 8/10 [00:05<00:01,  1.35it/s]\u001b[A\n",
      " 90%|█████████ | 9/10 [00:06<00:00,  1.40it/s]\u001b[A\n",
      "100%|██████████| 10/10 [00:07<00:00,  1.36it/s]\u001b[A\n",
      "\n",
      "  0%|          | 0/10 [00:00<?, ?it/s]\u001b[A\n",
      " 10%|█         | 1/10 [00:00<00:06,  1.35it/s]\u001b[A\n",
      " 20%|██        | 2/10 [00:01<00:06,  1.32it/s]\u001b[A\n",
      " 30%|███       | 3/10 [00:02<00:05,  1.38it/s]\u001b[A\n",
      " 40%|████      | 4/10 [00:02<00:04,  1.37it/s]\u001b[A\n",
      " 50%|█████     | 5/10 [00:03<00:03,  1.34it/s]\u001b[A\n",
      " 60%|██████    | 6/10 [00:04<00:02,  1.38it/s]\u001b[A\n",
      " 70%|███████   | 7/10 [00:05<00:02,  1.35it/s]\u001b[A\n",
      " 80%|████████  | 8/10 [00:05<00:01,  1.36it/s]\u001b[A\n",
      " 90%|█████████ | 9/10 [00:06<00:00,  1.38it/s]\u001b[A\n",
      "100%|██████████| 10/10 [00:07<00:00,  1.37it/s]\u001b[A\n",
      "\n",
      "  0%|          | 0/10 [00:00<?, ?it/s]\u001b[A\n",
      " 10%|█         | 1/10 [00:00<00:06,  1.42it/s]\u001b[A\n",
      " 20%|██        | 2/10 [00:01<00:05,  1.35it/s]\u001b[A\n",
      " 30%|███       | 3/10 [00:02<00:05,  1.38it/s]\u001b[A\n",
      " 40%|████      | 4/10 [00:02<00:04,  1.37it/s]\u001b[A\n",
      " 50%|█████     | 5/10 [00:03<00:03,  1.35it/s]\u001b[A\n",
      " 60%|██████    | 6/10 [00:04<00:02,  1.34it/s]\u001b[A\n",
      " 70%|███████   | 7/10 [00:05<00:02,  1.34it/s]\u001b[A\n",
      " 80%|████████  | 8/10 [00:05<00:01,  1.34it/s]\u001b[A\n",
      " 90%|█████████ | 9/10 [00:06<00:00,  1.37it/s]\u001b[A\n",
      "100%|██████████| 10/10 [00:07<00:00,  1.34it/s]\u001b[A"
     ]
    },
    {
     "name": "stdout",
     "output_type": "stream",
     "text": [
      "31.150973445860068\n"
     ]
    },
    {
     "name": "stderr",
     "output_type": "stream",
     "text": [
      "\n"
     ]
    }
   ],
   "source": [
    "s = 0\n",
    "for i in range(4):\n",
    "    test_seqs = np.load('cell'+str(i)+'_seqs.npy')[:10] \n",
    "    #common_motifs = np.zeros(len(motifs))\n",
    "    for seq in tqdm(test_seqs):\n",
    "        for i, m in enumerate(encoded_motifs):\n",
    "            #common_motifs[i] += len(find_motif(seq, m))\n",
    "            s += motif_score(seq, m)\n",
    "    #print(common_motifs)\n",
    "    #s += np.sum(common_motifs)\n",
    "print(s/40)"
   ]
  },
  {
   "cell_type": "code",
   "execution_count": null,
   "metadata": {},
   "outputs": [
    {
     "name": "stderr",
     "output_type": "stream",
     "text": [
      "\n",
      "  0%|          | 0/100 [00:00<?, ?it/s]\u001b[A\n",
      "  1%|          | 1/100 [00:00<01:11,  1.38it/s]\u001b[A\n",
      "  2%|▏         | 2/100 [00:01<01:11,  1.37it/s]\u001b[A\n",
      "  3%|▎         | 3/100 [00:02<01:10,  1.38it/s]\u001b[A\n",
      "  4%|▍         | 4/100 [00:02<01:12,  1.33it/s]\u001b[A\n",
      "  5%|▌         | 5/100 [00:03<01:12,  1.31it/s]\u001b[A\n",
      "  6%|▌         | 6/100 [00:04<01:14,  1.27it/s]\u001b[A\n",
      "  7%|▋         | 7/100 [00:05<01:10,  1.32it/s]\u001b[A\n",
      "  8%|▊         | 8/100 [00:06<01:08,  1.34it/s]\u001b[A\n",
      "  9%|▉         | 9/100 [00:06<01:10,  1.29it/s]\u001b[A\n",
      " 10%|█         | 10/100 [00:07<01:08,  1.31it/s]\u001b[A\n",
      " 11%|█         | 11/100 [00:08<01:09,  1.28it/s]\u001b[A\n",
      " 12%|█▏        | 12/100 [00:09<01:06,  1.32it/s]\u001b[A\n",
      " 13%|█▎        | 13/100 [00:09<01:03,  1.37it/s]\u001b[A\n",
      " 14%|█▍        | 14/100 [00:10<01:03,  1.35it/s]\u001b[A\n",
      " 15%|█▌        | 15/100 [00:11<01:02,  1.35it/s]\u001b[A\n",
      " 16%|█▌        | 16/100 [00:12<01:01,  1.36it/s]\u001b[A\n",
      " 17%|█▋        | 17/100 [00:12<01:03,  1.32it/s]\u001b[A\n",
      " 18%|█▊        | 18/100 [00:13<01:04,  1.28it/s]\u001b[A\n",
      " 19%|█▉        | 19/100 [00:14<01:02,  1.31it/s]\u001b[A\n",
      " 20%|██        | 20/100 [00:15<00:58,  1.37it/s]\u001b[A\n",
      " 21%|██        | 21/100 [00:15<00:59,  1.34it/s]\u001b[A\n",
      " 22%|██▏       | 22/100 [00:16<00:59,  1.30it/s]\u001b[A\n",
      " 23%|██▎       | 23/100 [00:17<00:58,  1.31it/s]\u001b[A\n",
      " 24%|██▍       | 24/100 [00:18<00:56,  1.35it/s]\u001b[A\n",
      " 25%|██▌       | 25/100 [00:18<00:54,  1.37it/s]\u001b[A\n",
      " 26%|██▌       | 26/100 [00:19<00:55,  1.34it/s]\u001b[A\n",
      " 27%|██▋       | 27/100 [00:20<00:53,  1.37it/s]\u001b[A\n",
      " 28%|██▊       | 28/100 [00:20<00:51,  1.40it/s]\u001b[A\n",
      " 29%|██▉       | 29/100 [00:21<00:52,  1.36it/s]\u001b[A\n",
      " 30%|███       | 30/100 [00:22<00:51,  1.36it/s]\u001b[A\n",
      " 31%|███       | 31/100 [00:23<00:51,  1.33it/s]\u001b[A\n",
      " 32%|███▏      | 32/100 [00:24<00:52,  1.30it/s]\u001b[A\n",
      " 33%|███▎      | 33/100 [00:24<00:52,  1.28it/s]\u001b[A\n",
      " 34%|███▍      | 34/100 [00:25<00:51,  1.27it/s]\u001b[A\n",
      " 35%|███▌      | 35/100 [00:26<00:49,  1.31it/s]\u001b[A\n",
      " 36%|███▌      | 36/100 [00:27<00:47,  1.35it/s]\u001b[A\n",
      " 37%|███▋      | 37/100 [00:27<00:45,  1.40it/s]\u001b[A\n",
      " 38%|███▊      | 38/100 [00:28<00:44,  1.39it/s]\u001b[A\n",
      " 39%|███▉      | 39/100 [00:29<00:43,  1.42it/s]\u001b[A\n",
      " 40%|████      | 40/100 [00:29<00:41,  1.45it/s]\u001b[A\n",
      " 41%|████      | 41/100 [00:30<00:41,  1.42it/s]\u001b[A\n",
      " 42%|████▏     | 42/100 [00:31<00:41,  1.39it/s]\u001b[A\n",
      " 43%|████▎     | 43/100 [00:31<00:40,  1.40it/s]\u001b[A\n",
      " 44%|████▍     | 44/100 [00:32<00:40,  1.37it/s]\u001b[A\n",
      " 45%|████▌     | 45/100 [00:33<00:40,  1.34it/s]\u001b[A\n",
      " 46%|████▌     | 46/100 [00:34<00:41,  1.31it/s]\u001b[A\n",
      " 47%|████▋     | 47/100 [00:35<00:38,  1.36it/s]\u001b[A\n",
      " 48%|████▊     | 48/100 [00:35<00:38,  1.34it/s]\u001b[A\n",
      " 49%|████▉     | 49/100 [00:36<00:38,  1.32it/s]\u001b[A\n",
      " 50%|█████     | 50/100 [00:37<00:36,  1.35it/s]\u001b[A\n",
      " 51%|█████     | 51/100 [00:38<00:44,  1.10it/s]\u001b[A"
     ]
    }
   ],
   "source": [
    "s = 0\n",
    "for i in range(4):\n",
    "    test_seqs = np.squeeze(np.load('class_'+str(i+1)+'_seqs.npy'))\n",
    "    \n",
    "    t = np.zeros((100, 1000, 4))\n",
    "    for i in range(len(test_seqs)):\n",
    "        seq = test_seqs[i]\n",
    "        max_activations = np.argmax(raw_input_seq, axis=1).flatten()\n",
    "        encoded_seq = np.zeros(raw_input_seq.shape)\n",
    "        encoded_seq[np.arange(encoded_seq.shape[0]), max_activations] = 1\n",
    "        t[i,:,:] = encoded_seq\n",
    "\n",
    "    #common_motifs = np.zeros(len(motifs))\n",
    "    for seq in tqdm(t):     \n",
    "        for i, m in enumerate(encoded_motifs):\n",
    "            s += motif_score(seq, m)\n",
    "            #common_motifs[i] += len(find_motif(seq, m))\n",
    "    #print(common_motifs)\n",
    "    #s += np.sum(common_motifs)\n",
    "print(s/400)"
   ]
  },
  {
   "cell_type": "code",
   "execution_count": 61,
   "metadata": {},
   "outputs": [
    {
     "name": "stderr",
     "output_type": "stream",
     "text": [
      "\n",
      "  0%|          | 0/10 [00:00<?, ?it/s]\u001b[A\n",
      " 10%|█         | 1/10 [00:00<00:06,  1.44it/s]\u001b[A\n",
      " 20%|██        | 2/10 [00:01<00:05,  1.43it/s]\u001b[A\n",
      " 30%|███       | 3/10 [00:02<00:05,  1.36it/s]\u001b[A\n",
      " 40%|████      | 4/10 [00:03<00:04,  1.33it/s]\u001b[A\n",
      " 50%|█████     | 5/10 [00:03<00:03,  1.36it/s]\u001b[A\n",
      " 60%|██████    | 6/10 [00:04<00:02,  1.39it/s]\u001b[A\n",
      " 70%|███████   | 7/10 [00:05<00:02,  1.43it/s]\u001b[A\n",
      " 80%|████████  | 8/10 [00:05<00:01,  1.36it/s]\u001b[A\n",
      " 90%|█████████ | 9/10 [00:06<00:00,  1.33it/s]\u001b[A\n",
      "100%|██████████| 10/10 [00:07<00:00,  1.35it/s]\u001b[A"
     ]
    },
    {
     "name": "stdout",
     "output_type": "stream",
     "text": [
      "31.119905199663464\n"
     ]
    },
    {
     "name": "stderr",
     "output_type": "stream",
     "text": [
      "\n"
     ]
    }
   ],
   "source": [
    "s = 0\n",
    "for i in range(1):\n",
    "    test_seqs = np.zeros((10, 1000, 4))\n",
    "    for i in range(10):\n",
    "        raw_input_seq = np.eye(4)[np.random.choice(4, 1000)] # define an initial random image\n",
    "        test_seqs[i,:,:] = raw_input_seq\n",
    "    \n",
    "    #common_motifs = np.zeros(len(motifs))\n",
    "    for seq in tqdm(test_seqs):    \n",
    "        for i, m in enumerate(encoded_motifs):\n",
    "            s += motif_score(seq, m)\n",
    "            #common_motifs[i] += len(find_motif(seq, m))\n",
    "    #print(common_motifs)\n",
    "    #s += np.sum(common_motifs)\n",
    "print(s/10)"
   ]
  },
  {
   "cell_type": "code",
   "execution_count": 58,
   "metadata": {},
   "outputs": [],
   "source": [
    "strs = ['GGACTATAATTAGTACATTATTGAATAGCCAAATATTTAAAAATAGGTGAACTTAATTATCTAGATTGGTAGGCTAAATAAAAAAAAAATAAAATTTATCGATAAATAGCTTGTGTCATTCTAAGATAAATACAGAAATTTATTTTTATTAATTATATAAGATCAACTAAACTCTATTATAAGTTTAAATACTTGGCTAAATTCGGAGATCCACAATGTTTTATTTTGCAATTATTTTTTAACGTCTAATTAAATAGCCAATCACAGAACTTATATCATGAAATTATAGAATGGGGATAGATGATAGCATTAATACAGCTTTAGGCACTAGAAAAGCTCCAAAGAAAATGCCAGGATTTAAGTAATTTAAATATGTAGGTCATATCGCAACTTTATTATTAGGAGTCGGAGAAATGGTATAAACAATCGATTTAGATTATGAGAGGTCGAGAGTAATATATTAAAAGAGAAGAATTAGCCATGTAAATATTTATTAAAAAATTAATATAACAATACTAAGACAGCATAGATAGCAGTAATATAGTACTATAGCTACAGTATATATTATATGTGACCTATCTAAATTTGCGAATGATATCACTTAAACAAGAATGGAGTGTTAAAATTTGAATAACAGCTAGAAAATATATAATAAACAAAGAAGATTATTAAAGATGCAATGAAATTAGCTATATTATAAAATTAAATAAATTGTTGATCTATATTAATAATTATTATCAAAGTAGAATATTAGGACTAGAATGGAAGTTAGATTTGTGAAAATTCATTTATATAATACAGTAGAATAGATAATGTGTGTAATCTAAAAATGAATGAAGATAAATTAAAAGCAACTATAATAGTGACTTAGAGATCTTCTTGATCACTATGATAGCACAATTAGGAATTTTTGCTAGACGATAATGAACTTTAAACTAGTGAATAAATATTTTTACAGATAATATGAATTCTTGCTAAGGAATATTAGGATTGCCACATA',\n",
    "        'AAAAAAATCGCGCAATACGACTGGACTAGTTGATTTAAAAAACCGAATAAAAAGTAAAGCGTCAGAACACTATTAAAAGAAACTTACCGAAAATAACTAAAAAAATCAAATAACAACGGCACACGGTTTAAAATAAAAACCAACCAGTAATTCGTAACCTTAATCCGGAAATTTAGAATAGTAAAAAAAAAAAAAGGAAACTAACCCAAAAGTACGTTTAACCAGACTAAACGCGGAAATCAAACGAGATGCTATAAAAAAAAGAAAAGTACGTAACTCACCATAACCCGTATAAAACAGTTATTTAAAAACCAAGTAACAAGCGTAAAAAAACCTAAAGCCTTTTTATAAAACATACAGAGATTCGCCTCAAAACGTATACTTAAAAACCGATAAAAAACGCATTTCAGAAAGCTTCCTACATTACCACCGAAACGAAGTAGTAAAAACAGCACTAAAAAAATAAAAAAACAAAAAAGAAGCGCAAACACCCTCTACGTACCAAAAAAACCGCCAAACGATCATTACGGCCAATTCAGATTCAAACAAACAACACTAAAAAAAAATTTTAAACTTACAATGTACCTTACCTAATTACATCTAACTAAGTACTGAACAAAAAAACAAAACACCACACTACACATACCGACCGTCCGTTTGAAAAAAAAAACAATTAAAAACGAAAGAAAACGTTAAACCATTAAACATTAACTGACCAAAAAAACTCCAAAAATTACGACAAAAAACGAAAAAACGTAGTTTATTGTAGACCCCCCCACACCCGCTATCTACGGCGCACAATAGAATTCCTTTTAGAAACTAAAAAGATAAAAAAAAGCATTCAAAAACAGAATGGGGCTTTACAAAATAAGTAAAGTAGCCAAACGATATTAAACAAAACCATTTCGTTAGCAATACCCTAATCTCACTTAATTATAAATACGAACTTTTTACGTTTACCGAAACCCCCAACTGCAGTACTACTTAAAGCGATGCAAAC',\n",
    "        'TTGAACGTAATACCTCATAGAAGTAATTAATGATTATCTGTTGTGGCCGGGAAGGATAATAGAAAGACTTTTTATATAATAATTTAAAATGTAGCTGTAAAAGTATACTTTGGCCGAAATCAAAAATTTAATTTTTTTGATCTTACATTTCTAAGGTATTTTTTTATTTAATATTTTTTGTTTCTTATTTTTTTTTTACCTTGAAACTCCTGTAAGTTATCTTTTAAATTTTTTATAAGGTTCGTTGTTTTAATTATTTTTGTATGTGTACGAGATTGTATTAAATGTAGTTTATCTTGTTTTCCCTTGGGAGTTTAATCTCTAGCTACCGTCGTTGAATTGCACACTTGTCCCACTATTATTGTCATTGAAACTAATAATAATTCAAGGCTGGTATATGGGAGAGTTGAGCTTTTTGATCTCTAGCTATTCTAATTTTAATTAATATAGTATATAGAGAGCTAGTAAGAGTGCATAATCATGCTATACTAGTGAGTGTGAGTATATTATTAAGTAAGTTCTATTCTAGTATAAATATGGCTTTTTTTGATATCCAATAGATGAGAACTGAGAGAAACGTCTCTGTTATCATGGCTAGTAAGATAAAGTAGCCCAATGACTAGTAATTTCAATTTCAAGTTCGCGGCACATTTCTCCCATTTCGTAAATTAACGTATATTAAAAATTTCTGGCTATTTTATTATATTTATATCTTCCCGACAACACATGGATTTTTTTCCTGATCACCAAACTCTTATTTTTTTTTTTATCTGTGCTATTTAAAAAACTAATTTTTGTGAGTATATTTGATTGAATAGTTCTGATCTATTATGGATCTTTCTACACTTAGTTGTTTTATCGGATTTATTTAAGAGGCAATTAAAAGAGACAGATTTGATGTTCTGACTTTGACTCTTTTTGTTTATTGCATAGTTGACTACTGAATATTAAGTTCGATGGCTTTTTGACGCATTATCTTAGTAGTTCGTTATTGGATTCG',\n",
    "        'TGTTATGTTTATGCTTCTCCATTATGAATAATAGTGTGTACATTTGTGGTTTAACTTGATTATGTAACACATTGACCCGACATTTCGTTTTAAATGAGATATAAAAGGGATTCATGATTGCTTGTTCTTTCTTGGTTCCGTTAATGGGCATAATCAAGTATCTAGTTCAGTAGGGGGGAATGCCTTGGTGGGAAACGGTAAGGGGAATCGCTACCCATCTGCCATGACCTAGAGACTGTCACTCGATCACCATCAGGATCCGTGAATTATATTCCCAATTCGCCACCTCCGCTCTGCGGCTGAGTACAAGAGTTGCGCGTAGTACCAAACACAGCCACTTTAGTACGAAAATGGAGTGTAAATTTTTTTAGAACCCATCGCCTGGGTAAACAGCTTATGTCTCAGAGAAGCTAGGTTAAATGGTTCCAAAGTTGTCGGCTTTTAATAAGTAAGATGAGGATGTAAGACAAGAGAGAAAAAAGAGACAAACGACGCGAAAGAGGGAAGCATTTTCGTGTCGGACGCGAGATAATATAGGGAGGGTGTGAGTTAATTATCGAGTAAAACGCATACATGTTTTGGTGTCTGAAAAACATGGGGTAACAAGTTATCAGAGCACGCGAGCAAGTGGATGCTCTACCGATAACAATGCTATACAAAAACATAATATGGAAGACATGCAGTAGGGTTGAGGATGAGTAAATTATGGGAGGAGAATGGAGGGAGGGAATGATTGTACGAAAATTGCTATCGACTAAGAAGTCATTCCTTAAGAACCACGGTATTAAAACAGGCATGGGGGATGTAAATTCGCGTAAATAAACCTCAAATCACGTGTACGGAAATACAGTAGGATTTCCTAGAAAGCCTATGAGAAACGAAATTCTGAGTGACTAGAAACATTAAGTGATTACCAGTAATTTTGGTCCCTGGCAAATGTGGAGTAGCCTAACCAGTAGTCTGTGATTATATGCGGGTAGGTGAAAGTAACTTAATAGAT']"
   ]
  },
  {
   "cell_type": "code",
   "execution_count": 60,
   "metadata": {},
   "outputs": [
    {
     "name": "stderr",
     "output_type": "stream",
     "text": [
      "\n",
      "  0%|          | 0/1 [00:00<?, ?it/s]\u001b[A\n",
      "100%|██████████| 1/1 [00:00<00:00,  1.50it/s]\u001b[A\n",
      "\n",
      "  0%|          | 0/1 [00:00<?, ?it/s]\u001b[A\n",
      "100%|██████████| 1/1 [00:00<00:00,  1.51it/s]\u001b[A\n",
      "\n",
      "  0%|          | 0/1 [00:00<?, ?it/s]\u001b[A\n",
      "100%|██████████| 1/1 [00:00<00:00,  1.38it/s]\u001b[A\n",
      "\n",
      "  0%|          | 0/1 [00:00<?, ?it/s]\u001b[A\n",
      "100%|██████████| 1/1 [00:00<00:00,  1.51it/s]\u001b[A"
     ]
    },
    {
     "name": "stdout",
     "output_type": "stream",
     "text": [
      "32.29498813764546\n"
     ]
    },
    {
     "name": "stderr",
     "output_type": "stream",
     "text": [
      "\n"
     ]
    }
   ],
   "source": [
    "s = 0\n",
    "for i in range(4):\n",
    "    test_seqs = np.expand_dims(encode_seq(strs[i]), axis=0)\n",
    "    \n",
    "    #common_motifs = np.zeros(len(motifs))\n",
    "    for seq in tqdm(test_seqs):    \n",
    "        for i, m in enumerate(encoded_motifs):\n",
    "            s += motif_score(seq, m)\n",
    "            #common_motifs[i] += len\n",
    "            #common_motifs[i] += len(find_motif(seq, m))\n",
    "    #print(common_motifs)\n",
    "    #s += np.sum(common_motifs)\n",
    "print(s/4)"
   ]
  },
  {
   "cell_type": "code",
   "execution_count": null,
   "metadata": {},
   "outputs": [],
   "source": []
  }
 ],
 "metadata": {
  "kernelspec": {
   "display_name": "Python 3",
   "language": "python",
   "name": "python3"
  },
  "language_info": {
   "codemirror_mode": {
    "name": "ipython",
    "version": 3
   },
   "file_extension": ".py",
   "mimetype": "text/x-python",
   "name": "python",
   "nbconvert_exporter": "python",
   "pygments_lexer": "ipython3",
   "version": "3.5.3"
  }
 },
 "nbformat": 4,
 "nbformat_minor": 4
}
